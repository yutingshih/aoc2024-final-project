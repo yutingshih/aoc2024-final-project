{
 "cells": [
  {
   "cell_type": "code",
   "execution_count": 53,
   "metadata": {},
   "outputs": [],
   "source": [
    "from PIL import Image\n",
    "import torch\n",
    "from torchvision import transforms\n",
    "import onnxruntime\n",
    "import numpy as np\n",
    "import json\n"
   ]
  },
  {
   "cell_type": "code",
   "execution_count": 47,
   "metadata": {},
   "outputs": [],
   "source": [
    "# Load image\n",
    "img = Image.open('/workspace/quant/sample_imgs/n02391049_zebra.JPEG')\n",
    "\n",
    "# Image preprocessing\n",
    "preprocess = transforms.Compose([\n",
    "    transforms.Resize(256),\n",
    "    transforms.CenterCrop(224),\n",
    "    transforms.ToTensor(),\n",
    "    transforms.Normalize(mean=[0.485, 0.456, 0.406], std=[0.229, 0.224, 0.225]),\n",
    "])\n",
    "\n",
    "input_tensor = preprocess(img)\n",
    "input_batch = input_tensor.unsqueeze(0)  # Add batch dimension\n",
    "\n",
    "# Move tensor to the appropriate device\n",
    "device = torch.device(\"cpu\")\n",
    "input_batch = input_batch.to(device)\n",
    "\n",
    "# Convert to numpy array for ONNX Runtime\n",
    "input_batch = input_batch.numpy().astype(np.float32)  # Ensure float32 type\n"
   ]
  },
  {
   "cell_type": "code",
   "execution_count": 48,
   "metadata": {},
   "outputs": [],
   "source": [
    "\n",
    "# Specify device for ONNX Runtime\n",
    "device_name = \"cpu\"  # or 'cuda:0'\n",
    "\n",
    "if device_name == \"cpu\":\n",
    "    providers = [\"CPUExecutionProvider\"]\n",
    "elif device_name == \"cuda:0\":\n",
    "    providers = [\"CUDAExecutionProvider\", \"CPUExecutionProvider\"]\n",
    "\n",
    "# Create inference session\n",
    "onnx_model = onnxruntime.InferenceSession(\n",
    "    \"/workspace/quant/models/quantized_googlenet.onnx\", providers=providers\n",
    ")\n"
   ]
  },
  {
   "cell_type": "code",
   "execution_count": 50,
   "metadata": {},
   "outputs": [
    {
     "name": "stdout",
     "output_type": "stream",
     "text": [
      "Input name: input\n",
      "Input shape: ['batch_size', 3, 224, 224]\n",
      "Predicted class: 340\n"
     ]
    }
   ],
   "source": [
    "# Get the name and shape of the input layer\n",
    "input_name = onnx_model.get_inputs()[0].name\n",
    "input_shape = onnx_model.get_inputs()[0].shape\n",
    "\n",
    "print(f\"Input name: {input_name}\")\n",
    "print(f\"Input shape: {input_shape}\")\n",
    "\n",
    "\n",
    "# Run inference\n",
    "outputs = onnx_model.run(None, {input_name: input_batch})\n",
    "\n",
    "# Process and print the output\n",
    "output_array = outputs[0]\n",
    "output_tensor = torch.tensor(output_array)\n",
    "predicted_class = torch.argmax(output_tensor, dim=1).item()\n",
    "\n",
    "print(f'Predicted class: {predicted_class}')\n"
   ]
  },
  {
   "cell_type": "code",
   "execution_count": 54,
   "metadata": {},
   "outputs": [
    {
     "name": "stdout",
     "output_type": "stream",
     "text": [
      "Predicted class: 340, Label: zebra\n"
     ]
    }
   ],
   "source": [
    "# Load ImageNet labels\n",
    "with open('imagenet-simple-labels.json') as f:\n",
    "    labels = json.load(f)\n",
    "\n",
    "# Print predicted class label\n",
    "predicted_label = labels[predicted_class]\n",
    "print(f'Predicted class: {predicted_class}, Label: {predicted_label}')"
   ]
  },
  {
   "cell_type": "code",
   "execution_count": null,
   "metadata": {},
   "outputs": [],
   "source": []
  }
 ],
 "metadata": {
  "kernelspec": {
   "display_name": "Python 3",
   "language": "python",
   "name": "python3"
  },
  "language_info": {
   "codemirror_mode": {
    "name": "ipython",
    "version": 3
   },
   "file_extension": ".py",
   "mimetype": "text/x-python",
   "name": "python",
   "nbconvert_exporter": "python",
   "pygments_lexer": "ipython3",
   "version": "3.10.12"
  }
 },
 "nbformat": 4,
 "nbformat_minor": 2
}
