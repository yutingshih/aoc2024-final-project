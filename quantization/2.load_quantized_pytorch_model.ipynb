{
 "cells": [
  {
   "cell_type": "code",
   "execution_count": 13,
   "metadata": {},
   "outputs": [],
   "source": [
    "import torch\n",
    "from torchvision import transforms\n",
    "from PIL import Image\n",
    "import torchvision.models as models\n",
    "import json"
   ]
  },
  {
   "cell_type": "code",
   "execution_count": 14,
   "metadata": {},
   "outputs": [
    {
     "data": {
      "text/plain": [
       "tensor([[[[-1.5014, -1.5185, -1.4843,  ..., -1.7583, -1.7412, -1.7069],\n",
       "          [-1.4500, -1.5014, -1.4843,  ..., -1.7412, -1.7240, -1.6898],\n",
       "          [-1.4500, -1.5185, -1.5185,  ..., -1.7069, -1.6898, -1.6727],\n",
       "          ...,\n",
       "          [-1.6384, -1.5699, -1.5528,  ..., -1.6727, -1.6384, -1.6384],\n",
       "          [-1.6555, -1.6213, -1.5870,  ..., -1.6384, -1.6213, -1.6213],\n",
       "          [-1.6555, -1.6213, -1.6213,  ..., -1.6213, -1.6213, -1.6213]],\n",
       "\n",
       "         [[-1.3004, -1.2654, -1.2129,  ..., -1.6331, -1.6155, -1.5805],\n",
       "          [-1.2304, -1.2304, -1.2129,  ..., -1.6155, -1.5980, -1.5630],\n",
       "          [-1.1779, -1.2304, -1.2479,  ..., -1.5805, -1.5630, -1.5455],\n",
       "          ...,\n",
       "          [-1.4755, -1.3880, -1.3529,  ..., -1.5105, -1.4755, -1.4405],\n",
       "          [-1.5105, -1.4405, -1.4055,  ..., -1.5105, -1.4580, -1.4230],\n",
       "          [-1.5280, -1.4755, -1.4405,  ..., -1.5105, -1.4580, -1.4230]],\n",
       "\n",
       "         [[-1.1421, -1.1596, -1.1247,  ..., -1.4210, -1.4036, -1.3687],\n",
       "          [-1.0898, -1.1421, -1.1247,  ..., -1.4036, -1.3861, -1.3513],\n",
       "          [-1.0898, -1.1421, -1.1596,  ..., -1.3687, -1.3513, -1.3339],\n",
       "          ...,\n",
       "          [-1.2816, -1.2293, -1.1944,  ..., -1.2990, -1.2641, -1.2816],\n",
       "          [-1.2990, -1.2467, -1.2467,  ..., -1.2816, -1.2467, -1.2641],\n",
       "          [-1.3164, -1.2816, -1.2816,  ..., -1.2816, -1.2467, -1.2641]]]])"
      ]
     },
     "execution_count": 14,
     "metadata": {},
     "output_type": "execute_result"
    }
   ],
   "source": [
    "img = Image.open('/workspace/quant/sample_imgs/n01443537_goldfish.JPEG')\n",
    "\n",
    "# Image preprocessing\n",
    "preprocess = transforms.Compose([\n",
    "    transforms.Resize(256),\n",
    "    transforms.CenterCrop(224),\n",
    "    transforms.ToTensor(),\n",
    "    transforms.Normalize(mean=[0.485, 0.456, 0.406], std=[0.229, 0.224, 0.225]),\n",
    "])\n",
    "\n",
    "input_tensor = preprocess(img)\n",
    "input_batch = input_tensor.unsqueeze(0)  # Add batch dimension\n",
    "\n",
    "# device = torch.device(\"cuda\" if torch.cuda.is_available() else \"cpu\")\n",
    "device = torch.device(\"cpu\")\n",
    "input_batch = input_batch.to(device)\n",
    "input_batch"
   ]
  },
  {
   "cell_type": "code",
   "execution_count": 15,
   "metadata": {},
   "outputs": [],
   "source": [
    "# 使用 TorchScript 加载模型\n",
    "arch = 'squeezenet1_0'\n",
    "scripted_model_name = f\"/workspace/quant/models/quantized_{arch}_v1.pt\"\n",
    "loaded_scripted_model = torch.jit.load(scripted_model_name)\n",
    "loaded_scripted_model.eval()\n",
    "loaded_scripted_model.state_dict()\n",
    "\n",
    "# Perform inference with the loaded quantized model\n",
    "with torch.no_grad():\n",
    "    input_tensor = preprocess(img)\n",
    "    input_batch = input_tensor.unsqueeze(0)  # Add batch dimension\n",
    "    loaded_output = loaded_scripted_model(input_batch)\n"
   ]
  },
  {
   "cell_type": "code",
   "execution_count": 16,
   "metadata": {},
   "outputs": [
    {
     "name": "stdout",
     "output_type": "stream",
     "text": [
      "Loaded Max Value: tensor([30.7403])\n",
      "Loaded Max Index: tensor([1])\n"
     ]
    }
   ],
   "source": [
    "# Find the maximum value and its index\n",
    "loaded_max_value, loaded_max_index = torch.max(loaded_output, dim=1)\n",
    "# Compare the maximum values and their indices\n",
    "print(\"Loaded Max Value:\", loaded_max_value)\n",
    "print(\"Loaded Max Index:\", loaded_max_index)"
   ]
  },
  {
   "cell_type": "code",
   "execution_count": 17,
   "metadata": {},
   "outputs": [
    {
     "name": "stdout",
     "output_type": "stream",
     "text": [
      "Predicted class: tensor([1]), Label: goldfish\n"
     ]
    }
   ],
   "source": [
    "# Load ImageNet labels\n",
    "with open('imagenet-simple-labels.json') as f:\n",
    "    labels = json.load(f)\n",
    "\n",
    "# Print predicted class label\n",
    "predicted_label = labels[loaded_max_index]\n",
    "print(f'Predicted class: {loaded_max_index}, Label: {predicted_label}')"
   ]
  },
  {
   "cell_type": "code",
   "execution_count": null,
   "metadata": {},
   "outputs": [],
   "source": []
  }
 ],
 "metadata": {
  "kernelspec": {
   "display_name": "Python 3",
   "language": "python",
   "name": "python3"
  },
  "language_info": {
   "codemirror_mode": {
    "name": "ipython",
    "version": 3
   },
   "file_extension": ".py",
   "mimetype": "text/x-python",
   "name": "python",
   "nbconvert_exporter": "python",
   "pygments_lexer": "ipython3",
   "version": "3.10.12"
  }
 },
 "nbformat": 4,
 "nbformat_minor": 2
}
