{
 "cells": [
  {
   "cell_type": "code",
   "execution_count": 25,
   "metadata": {},
   "outputs": [],
   "source": [
    "import torch\n",
    "from torchvision import transforms\n",
    "from PIL import Image\n",
    "import torchvision.models as models"
   ]
  },
  {
   "cell_type": "code",
   "execution_count": 26,
   "metadata": {},
   "outputs": [
    {
     "data": {
      "text/plain": [
       "tensor([[[[-0.8335, -0.8849, -0.8678,  ..., -0.5424, -0.4226, -0.3541],\n",
       "          [-0.7993, -0.7993, -0.7822,  ..., -0.5596, -0.4911, -0.3712],\n",
       "          [-0.8335, -0.8335, -0.7993,  ..., -0.5424, -0.5424, -0.4226],\n",
       "          ...,\n",
       "          [-0.9534, -0.9705, -0.9705,  ..., -0.7650, -0.6794, -0.6452],\n",
       "          [-0.9877, -0.9877, -0.9363,  ..., -0.7479, -0.6452, -0.6109],\n",
       "          [-0.9192, -0.9363, -0.9705,  ..., -0.6965, -0.5938, -0.6281]],\n",
       "\n",
       "         [[-0.4426, -0.5126, -0.4951,  ..., -0.1800, -0.0924, -0.0399],\n",
       "          [-0.4076, -0.4426, -0.4076,  ..., -0.1625, -0.1099, -0.0399],\n",
       "          [-0.4076, -0.4426, -0.3725,  ..., -0.2150, -0.1625, -0.0399],\n",
       "          ...,\n",
       "          [-0.6352, -0.6527, -0.6176,  ..., -0.4076, -0.3725, -0.3200],\n",
       "          [-0.6001, -0.5826, -0.5826,  ..., -0.3725, -0.3375, -0.3025],\n",
       "          [-0.6001, -0.6352, -0.6176,  ..., -0.3375, -0.2850, -0.2850]],\n",
       "\n",
       "         [[-0.3055, -0.4101, -0.3404,  ..., -0.0615,  0.0082,  0.0605],\n",
       "          [-0.2532, -0.3230, -0.2881,  ..., -0.0790, -0.0092,  0.0431],\n",
       "          [-0.2707, -0.2707, -0.2358,  ..., -0.1138, -0.0790,  0.0431],\n",
       "          ...,\n",
       "          [-0.4973, -0.4973, -0.5147,  ..., -0.2707, -0.2358, -0.2010],\n",
       "          [-0.4624, -0.4101, -0.4973,  ..., -0.2184, -0.1661, -0.1835],\n",
       "          [-0.4450, -0.4624, -0.4973,  ..., -0.2010, -0.1138, -0.1835]]]])"
      ]
     },
     "execution_count": 26,
     "metadata": {},
     "output_type": "execute_result"
    }
   ],
   "source": [
    "img = Image.open('n01440764_tench.JPEG')\n",
    "\n",
    "# Image preprocessing\n",
    "preprocess = transforms.Compose([\n",
    "    transforms.Resize(256),\n",
    "    transforms.CenterCrop(224),\n",
    "    transforms.ToTensor(),\n",
    "    transforms.Normalize(mean=[0.485, 0.456, 0.406], std=[0.229, 0.224, 0.225]),\n",
    "])\n",
    "\n",
    "input_tensor = preprocess(img)\n",
    "input_batch = input_tensor.unsqueeze(0)  # Add batch dimension\n",
    "\n",
    "# device = torch.device(\"cuda\" if torch.cuda.is_available() else \"cpu\")\n",
    "device = torch.device(\"cpu\")\n",
    "input_batch = input_batch.to(device)\n",
    "input_batch"
   ]
  },
  {
   "cell_type": "code",
   "execution_count": 27,
   "metadata": {},
   "outputs": [],
   "source": [
    "arch = 'squeezenet1_0'\n",
    "model_names = models.list_models(module=models)\n",
    "# Load the model onto the device\n",
    "model = models.__dict__[arch](pretrained=True)\n",
    "model.to(device)\n",
    "model.eval()\n",
    "# loaded_scripted_model.to(device)\n",
    "\n",
    "# Perform inference with the original quantized model\n",
    "with torch.no_grad():\n",
    "    original_output = model(input_batch)"
   ]
  },
  {
   "cell_type": "code",
   "execution_count": 28,
   "metadata": {},
   "outputs": [],
   "source": [
    "# 使用 TorchScript 加载模型\n",
    "scripted_model_name = f\"quantized_{arch}_v1.pt\"\n",
    "loaded_scripted_model = torch.jit.load(scripted_model_name)\n",
    "loaded_scripted_model.eval()\n",
    "loaded_scripted_model.state_dict()\n",
    "\n",
    "# Perform inference with the loaded quantized model\n",
    "with torch.no_grad():\n",
    "    input_tensor = preprocess(img)\n",
    "    input_batch = input_tensor.unsqueeze(0)  # Add batch dimension\n",
    "    loaded_output = loaded_scripted_model(input_batch)\n"
   ]
  },
  {
   "cell_type": "code",
   "execution_count": 29,
   "metadata": {},
   "outputs": [
    {
     "name": "stdout",
     "output_type": "stream",
     "text": [
      "Original Max Value: tensor([33.1787])\n",
      "Original Max Index: tensor([0])\n",
      "Loaded Max Value: tensor([33.5349])\n",
      "Loaded Max Index: tensor([0])\n",
      "Max Value Difference: tensor([0.3562])\n",
      "Max Index Difference: tensor([False])\n"
     ]
    }
   ],
   "source": [
    "# Find the maximum value and its index\n",
    "original_max_value, original_max_index = torch.max(original_output, dim=1)\n",
    "loaded_max_value, loaded_max_index = torch.max(loaded_output, dim=1)\n",
    "\n",
    "# Compare the maximum values and their indices\n",
    "print(\"Original Max Value:\", original_max_value)\n",
    "print(\"Original Max Index:\", original_max_index)\n",
    "print(\"Loaded Max Value:\", loaded_max_value)\n",
    "print(\"Loaded Max Index:\", loaded_max_index)\n",
    "print(\"Max Value Difference:\", torch.abs(original_max_value.cpu() - loaded_max_value))\n",
    "print(\"Max Index Difference:\", original_max_index.cpu() != loaded_max_index)"
   ]
  }
 ],
 "metadata": {
  "kernelspec": {
   "display_name": "Python 3",
   "language": "python",
   "name": "python3"
  },
  "language_info": {
   "codemirror_mode": {
    "name": "ipython",
    "version": 3
   },
   "file_extension": ".py",
   "mimetype": "text/x-python",
   "name": "python",
   "nbconvert_exporter": "python",
   "pygments_lexer": "ipython3",
   "version": "3.10.12"
  }
 },
 "nbformat": 4,
 "nbformat_minor": 2
}
